{
 "cells": [
  {
   "cell_type": "code",
   "execution_count": 1,
   "metadata": {},
   "outputs": [],
   "source": [
    "from solidity_parser import parser #you could find this repository in /utils/python-solidity-parser-master, official setup has a bug.\n",
    "import json\n",
    "import os"
   ]
  },
  {
   "cell_type": "code",
   "execution_count": 3,
   "metadata": {},
   "outputs": [],
   "source": [
    "def getASTandWrite2file(path, path1):\n",
    "    WrongFile = []\n",
    "    files = os.listdir(path)\n",
    "    for file in files:\n",
    "        try:\n",
    "            res = parser.parse_file(path+file)\n",
    "            result = json.dumps(res)\n",
    "            w = open(path1+file+'.json','w')\n",
    "            w.write(result)\n",
    "            w.close()\n",
    "        except:\n",
    "            WrongFile.append(file)\n",
    "    return WrongFile  #the functions cannot be processed."
   ]
  },
  {
   "cell_type": "code",
   "execution_count": null,
   "metadata": {},
   "outputs": [],
   "source": [
    "wf1 = getASTandWrite2file('./func_timestamp/func_no_v/', './func_timestamp/AST_normal/')\n",
    "wf2 = getASTandWrite2file('./func_timestamp/func_v/', './func_timestamp/AST_vulnerable/')"
   ]
  },
  {
   "cell_type": "code",
   "execution_count": 5,
   "metadata": {},
   "outputs": [
    {
     "data": {
      "text/plain": [
       "(40, 0)"
      ]
     },
     "execution_count": 5,
     "metadata": {},
     "output_type": "execute_result"
    }
   ],
   "source": [
    "len(wf1), len(wf2)"
   ]
  }
 ],
 "metadata": {
  "kernelspec": {
   "display_name": "Python 3",
   "language": "python",
   "name": "python3"
  },
  "language_info": {
   "codemirror_mode": {
    "name": "ipython",
    "version": 3
   },
   "file_extension": ".py",
   "mimetype": "text/x-python",
   "name": "python",
   "nbconvert_exporter": "python",
   "pygments_lexer": "ipython3",
   "version": "3.8.3"
  }
 },
 "nbformat": 4,
 "nbformat_minor": 4
}
